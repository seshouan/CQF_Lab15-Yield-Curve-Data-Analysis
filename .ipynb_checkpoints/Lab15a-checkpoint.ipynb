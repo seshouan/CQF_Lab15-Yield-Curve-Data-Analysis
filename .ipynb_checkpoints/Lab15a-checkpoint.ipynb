{
 "cells": [
  {
   "cell_type": "code",
   "execution_count": null,
   "id": "ed7050e0-6eab-4c81-bdd2-ec36faef1c7c",
   "metadata": {},
   "outputs": [],
   "source": [
    "# Import libraries\n",
    "import numpy as np\n",
    "import pandas as pd\n",
    "import os as os\n",
    "\n",
    "# Cufflinks library allows direct plotting of Plotly interactive charts from Dataframes object\n",
    "import cufflinks as cf\n",
    "cf.set_config_file(offline=True)\n",
    "\n",
    "# Heatmap of covariance matrix\n",
    "import plotly.graph_objs as go\n",
    "from plotly.subplots import make_subplots\n",
    "\n",
    "# scikit\n",
    "from sklearn.pipeline import Pipeline\n",
    "from sklearn.preprocessing import StandardScaler\n",
    "from sklearn.decomposition import PCA"
   ]
  },
  {
   "cell_type": "code",
   "execution_count": null,
   "id": "8d27e8ce-a9bc-4e16-8cb3-7a2ff267cce7",
   "metadata": {},
   "outputs": [],
   "source": [
    "pd.set_option('display.max_rows', 5000)\n",
    "pd.set_option('display.max_columns', 100)\n",
    "pd.set_option('display.width', 1000)"
   ]
  },
  {
   "cell_type": "code",
   "execution_count": null,
   "id": "7ae0c5ff-b1d6-423b-9afa-43df4a1342c8",
   "metadata": {},
   "outputs": [],
   "source": [
    "# Check working directory\n",
    "os.getcwd() \n",
    "\n",
    "# Set working directory if necessary\n",
    "# work_dir = \"INSERT PATH TO FILE LOCATION\"\n",
    "# os.chdir(work_dir)"
   ]
  },
  {
   "cell_type": "code",
   "execution_count": null,
   "id": "ebcbef13-5b93-42cb-bafe-b343bffcac27",
   "metadata": {},
   "outputs": [],
   "source": [
    "data = pd.read_csv('./data/hjm_pca_2002-07.csv', index_col=0, sep ='\\t')"
   ]
  },
  {
   "cell_type": "code",
   "execution_count": null,
   "id": "9639c75d-651d-4a43-81d6-2af27b47d482",
   "metadata": {},
   "outputs": [],
   "source": [
    "data.head()"
   ]
  },
  {
   "cell_type": "code",
   "execution_count": null,
   "id": "c91d4ff0-a9e2-487a-b3f6-f40b2eaad815",
   "metadata": {},
   "outputs": [],
   "source": [
    "data.shape"
   ]
  },
  {
   "cell_type": "code",
   "execution_count": null,
   "id": "3907b869-46e8-4948-b0a7-e0330178cfd1",
   "metadata": {},
   "outputs": [],
   "source": [
    "# Plot curve\n",
    "data.iloc[0].iplot(title = 'Representation of a Yield Curve')"
   ]
  },
  {
   "cell_type": "code",
   "execution_count": null,
   "id": "df83d60d-0347-4f61-a810-ddace1c62ed5",
   "metadata": {},
   "outputs": [],
   "source": [
    "# Plot all curves\n",
    "data.T.iplot(title='Daily Yield Curves')"
   ]
  },
  {
   "cell_type": "code",
   "execution_count": null,
   "id": "9d532fa1-0eae-4500-8e10-88837bbc5f42",
   "metadata": {},
   "outputs": [],
   "source": [
    "diff_ = data.diff(-1)\n",
    "diff_.dropna(inplace=True)"
   ]
  },
  {
   "cell_type": "code",
   "execution_count": null,
   "id": "1a4aed57-4d4c-4033-87b8-b8f63b4b1f52",
   "metadata": {},
   "outputs": [],
   "source": [
    "diff_.tail()"
   ]
  },
  {
   "cell_type": "code",
   "execution_count": null,
   "id": "6200837e-2cf5-4256-97fc-2205bc3e439c",
   "metadata": {},
   "outputs": [],
   "source": [
    "diff_.shape"
   ]
  },
  {
   "cell_type": "code",
   "execution_count": null,
   "id": "57715ccc-e869-46b4-b0d4-4351008b97d4",
   "metadata": {},
   "outputs": [],
   "source": [
    "vol = np.std(diff_, axis=0) * 10000"
   ]
  },
  {
   "cell_type": "code",
   "execution_count": null,
   "id": "f619d059-9711-4684-a2fc-3c2ea3fcb305",
   "metadata": {},
   "outputs": [],
   "source": [
    "vol[:21].iplot(title='Volatility of Daily Yields', xTitle='Tenor', yTitle='Volatility (bps)', \n",
    "               color='cornflowerblue')"
   ]
  },
  {
   "cell_type": "code",
   "execution_count": null,
   "id": "ebac60ba-7e07-4c08-9778-e0c99af1e052",
   "metadata": {},
   "outputs": [],
   "source": [
    "cov_= pd.DataFrame(np.cov(diff_, rowvar=False)*252/10000, \n",
    "                   columns=diff_.columns, index=diff_.columns)\n",
    "\n",
    "cov_.style.format(\"{:.4%}\")"
   ]
  },
  {
   "cell_type": "code",
   "execution_count": null,
   "id": "e8da2cd1-8aea-43e1-8ccf-d0994e8a7e13",
   "metadata": {},
   "outputs": [],
   "source": [
    "# Heatmap appropirate for Covariance Matrix\n",
    "fig_matrix = go.Figure(data=go.Heatmap(z=cov_, colorscale='Viridis'))\n",
    "fig_matrix.update_layout(title='Covariance Matrix Heatmap')\n",
    "fig_matrix.show()"
   ]
  },
  {
   "cell_type": "code",
   "execution_count": null,
   "id": "829e7e80-b7cc-49bf-9406-899790abf9e4",
   "metadata": {},
   "outputs": [],
   "source": [
    "# 3D Surface Plot with larger dimensions\n",
    "x, y = np.meshgrid(cov_.columns, cov_.index)\n",
    "fig_surface = make_subplots(rows=1, cols=1, specs=[[{'type': 'surface'}]])\n",
    "fig_surface.add_trace(go.Surface(z=cov_.values, x=x, y=y, colorscale='Viridis'))\n",
    "\n",
    "# Update layout for larger dimensions\n",
    "fig_surface.update_layout(title='Covariance 3D Surface Plot (rotate)',\n",
    "                          scene=dict(\n",
    "                              xaxis=dict(title='X Axis'),\n",
    "                              yaxis=dict(title='Y Axis'),\n",
    "                              zaxis=dict(title='Z Axis'),\n",
    "                          ),\n",
    "                          width=800,  # Adjust width as needed\n",
    "                          height=600  # Adjust height as needed\n",
    "                          )\n",
    "\n",
    "# Show the plot\n",
    "fig_surface.show()\n",
    "\n",
    "# Observation: if we remove the 0.08 tenor (where covariance peaks), we are likely to have better behavour of Covariance Matrix"
   ]
  },
  {
   "cell_type": "code",
   "execution_count": null,
   "id": "fd256d99-e95c-4bd5-8c77-504223d99deb",
   "metadata": {},
   "outputs": [],
   "source": [
    "eigenvalues, eigenvectors = np.linalg.eig(cov_)\n",
    "\n",
    "# Sort values (good practice)\n",
    "idx = eigenvalues.argsort()[::-1]   \n",
    "eigenvalues = eigenvalues[idx]\n",
    "eigenvectors = eigenvectors[:,idx]\n",
    "\n",
    "# Format into DataFrame \n",
    "df_eigval = pd.DataFrame({\"Eigenvalues\": eigenvalues})"
   ]
  },
  {
   "cell_type": "code",
   "execution_count": null,
   "id": "5516b712-c79b-46fb-a36a-8f5a497bbc7c",
   "metadata": {},
   "outputs": [],
   "source": [
    "df_eigval.head()"
   ]
  },
  {
   "cell_type": "code",
   "execution_count": null,
   "id": "3655423f-393e-4fe6-b7a8-88abe490f58e",
   "metadata": {},
   "outputs": [],
   "source": [
    "# Work out explained proportion \n",
    "df_eigval[\"Var Explained\"] = df_eigval[\"Eigenvalues\"] / np.sum(df_eigval[\"Eigenvalues\"])\n",
    "df_eigval = df_eigval[:8]\n",
    "\n",
    "#Format as percentage\n",
    "df_eigval.style.format({\"Var Explained\": \"{:.2%}\"})"
   ]
  },
  {
   "cell_type": "code",
   "execution_count": null,
   "id": "45b65443-3302-4fbd-8b37-d9efd25b4dcb",
   "metadata": {},
   "outputs": [],
   "source": [
    "(df_eigval['Var Explained'][:5]*100).iplot(kind='bar', title='Percentage Variance Explained', \n",
    "                                            color='cornflowerblue')"
   ]
  },
  {
   "cell_type": "code",
   "execution_count": null,
   "id": "bf106403-b457-4b56-94d4-5fe555fac240",
   "metadata": {},
   "outputs": [],
   "source": [
    "# Subsume first 3 components into a dataframe\n",
    "pcadf = pd.DataFrame(eigenvectors[:,0:3], columns=['e1','e2','e3'], index=data.columns)\n",
    "pcadf[:10]"
   ]
  },
  {
   "cell_type": "code",
   "execution_count": null,
   "id": "69a31a74-6e09-4c24-80cd-1555afa1f0fd",
   "metadata": {},
   "outputs": [],
   "source": [
    "pcadf.iplot(title='Principal Components for Forward Curve (HJM Lecture) UNSCALED', secondary_y='e1', secondary_y_title='e1 or PC1', \n",
    "            yTitle='change in yield (bps)')"
   ]
  },
  {
   "cell_type": "code",
   "execution_count": null,
   "id": "2381e07d-89e5-4f85-9b2c-8db54b1251ec",
   "metadata": {},
   "outputs": [],
   "source": [
    "# Import Curve Data\n",
    "df = pd.read_excel(\"./data/gilts_spot_1970-2015.xlsx\", index_col=0, header=3, sheet_name=\"4. spot curve\", skiprows=[4])\n",
    "\n",
    "# IMPORTANT DATA PROCESSING\n",
    "# Limit curve to 10.5Y tenor.  Semi-annual increments give 20 columns\n",
    "# Tenor 0.5Y would have given a lot missed values, so the entire monthy curve would've been eliminated\n",
    "\n",
    "df = df.iloc[:, 1:21]\n",
    "\n",
    "df.head()"
   ]
  },
  {
   "cell_type": "code",
   "execution_count": null,
   "id": "eb64b6eb-2649-4523-aa3b-b8c8c6364dd8",
   "metadata": {},
   "outputs": [],
   "source": [
    "df = df.dropna(how=\"any\")\n",
    "df.shape"
   ]
  },
  {
   "cell_type": "code",
   "execution_count": null,
   "id": "10df9d68-de3d-4338-9eab-7c19be345de0",
   "metadata": {},
   "outputs": [],
   "source": [
    "# StandardScaler() by defaults normalises data -- computes Z-scores by column\n",
    "scaler = StandardScaler()\n",
    "scaler.fit(df)\n",
    "\n",
    "df1 = pd.DataFrame(scaler.transform(df))\n",
    "df1.head()"
   ]
  },
  {
   "cell_type": "code",
   "execution_count": null,
   "id": "29ea472e-55bc-44ae-81f5-0364c7919ffc",
   "metadata": {},
   "outputs": [],
   "source": [
    "cov_array = np.cov(df1, rowvar=False)\n",
    "# cov_df1 = pd.DataFrame(cov_array) #, index=range(1,21), columns=range(1,21))\n",
    "\n",
    "cov_df1 = pd.DataFrame(cov_array, columns=df.columns, index=df.columns)\n",
    "cov_df1 .style.format(\"{:.4}\")"
   ]
  },
  {
   "cell_type": "code",
   "execution_count": null,
   "id": "889d81d9-bd96-4a06-98aa-0569e7bc04e4",
   "metadata": {},
   "outputs": [],
   "source": [
    "# 3D Surface Plot with larger dimensions\n",
    "x, y = np.meshgrid(cov_df1.columns, cov_df1.index)\n",
    "fig_surface = make_subplots(rows=1, cols=1, specs=[[{'type': 'surface'}]])\n",
    "fig_surface.add_trace(go.Surface(z=cov_df1.values, x=x, y=y, colorscale='Viridis'))\n",
    "\n",
    "# Update layout for larger dimensions\n",
    "fig_surface.update_layout(title='Covariance 3D Surface Plot (rotate)',\n",
    "                          scene=dict(\n",
    "                              xaxis=dict(title='X Axis'),\n",
    "                              yaxis=dict(title='Y Axis'),\n",
    "                              zaxis=dict(title='Z Axis'),\n",
    "                          ),\n",
    "                          width=800,  # Adjust width as needed\n",
    "                          height=600  # Adjust height as needed\n",
    "                          )\n",
    "\n",
    "# Show the plot\n",
    "fig_surface.show()\n",
    "\n",
    "# Observation: we have ended up with very robust covariance matrix, devoid of noise. High correlations."
   ]
  },
  {
   "cell_type": "code",
   "execution_count": null,
   "id": "a16ba502-c2cf-4ef1-bc9c-a46299c3452d",
   "metadata": {},
   "outputs": [],
   "source": [
    "eigenvalues, eigenvectors = np.linalg.eig(cov_array)\n",
    "\n",
    "# Sort values (good practice)\n",
    "idx = eigenvalues.argsort()[::-1]   \n",
    "eigenvalues = eigenvalues[idx]\n",
    "eigenvectors = eigenvectors[:,idx]\n",
    "\n",
    "# Format into DataFrame (but we output array type below -- to show how small eigenvalues became)\n",
    "df1_eigval = pd.DataFrame({\"Eigenvalues\": eigenvalues}) #, index=range(1,21))"
   ]
  },
  {
   "cell_type": "code",
   "execution_count": null,
   "id": "e786b3b8-5c8c-4d13-bce7-9bdffa0ba15c",
   "metadata": {},
   "outputs": [],
   "source": [
    "eigenvalues"
   ]
  },
  {
   "cell_type": "code",
   "execution_count": null,
   "id": "c272c75f-682e-4b97-98d8-36937d948ecb",
   "metadata": {},
   "outputs": [],
   "source": [
    "# Format into a DataFrame \n",
    "df1_eigvec = pd.DataFrame(eigenvectors) #, index=range(1,21))\n",
    "\n",
    "eigenvectors[:,0] # Only PC1 is of relevance"
   ]
  },
  {
   "cell_type": "code",
   "execution_count": null,
   "id": "33db31c8-5836-41f7-8f3d-a2f79827e85e",
   "metadata": {},
   "outputs": [],
   "source": [
    "# Work out explained proportion \n",
    "df1_eigval[\"Var Explained\"] = df_eigval[\"Eigenvalues\"] / np.sum(df_eigval[\"Eigenvalues\"])\n",
    "df1_eigval = df_eigval[:5]\n",
    "\n",
    "#Format as percentage\n",
    "df1_eigval.style.format({\"Var Explained\": \"{:.2%}\"})"
   ]
  },
  {
   "cell_type": "code",
   "execution_count": null,
   "id": "c12686f5-3941-4952-931c-bec3edcd6d32",
   "metadata": {},
   "outputs": [],
   "source": [
    "(df1_eigval['Var Explained'][:5]*100).iplot(kind='bar', \n",
    "                                             title='Percentage Variance Explained', \n",
    "                                             color='cornflowerblue')"
   ]
  },
  {
   "cell_type": "code",
   "execution_count": null,
   "id": "059d6835-21d2-4b5b-afc2-e06503a8deb0",
   "metadata": {},
   "outputs": [],
   "source": [
    "# Subsume first 3 components into a dataframe\n",
    "pcdf = pd.DataFrame(eigenvectors[:,0:3], columns=['e1','e2','e3'], index=df.columns)\n",
    "pcdf[:10]"
   ]
  },
  {
   "cell_type": "code",
   "execution_count": null,
   "id": "1b5a6ce8-ab23-4f3a-9012-39c0fc57a5ed",
   "metadata": {},
   "outputs": [],
   "source": [
    "pcdf.iplot(title='Principal Components for Gilts Curve (unscaled)', secondary_y='e1', secondary_y_title='PC1 or e1')"
   ]
  },
  {
   "cell_type": "code",
   "execution_count": null,
   "id": "872da2ac-5a55-43fe-9ca1-d467e2e24fa3",
   "metadata": {},
   "outputs": [],
   "source": [
    "# Wrap two main stages into a pipeline\n",
    "pipe = Pipeline([(\"scaler\", StandardScaler()), (\"pca\", PCA())]) \n",
    "pipe.fit(df)"
   ]
  },
  {
   "cell_type": "code",
   "execution_count": null,
   "id": "15391015-00b5-4729-a9a7-2ad8b8423d87",
   "metadata": {},
   "outputs": [],
   "source": [
    "# eigenvectors\n",
    "pipe['pca'].components_[0]"
   ]
  },
  {
   "cell_type": "code",
   "execution_count": null,
   "id": "1944ec5e-c8da-4daa-a9bc-599b07f4d802",
   "metadata": {},
   "outputs": [],
   "source": [
    "# eigenvalues, reference here to eigenvalues being canonical variances\n",
    "pipe['pca'].explained_variance_"
   ]
  },
  {
   "cell_type": "code",
   "execution_count": null,
   "id": "c3643e44-24a4-487d-82f5-5a1d03a8d30a",
   "metadata": {},
   "outputs": [],
   "source": [
    "# explained variance ratio is R^2 statistic, eg 98.89% for our PC1 below\n",
    "pipe['pca'].explained_variance_ratio_"
   ]
  },
  {
   "cell_type": "code",
   "execution_count": null,
   "id": "7213e5ec-1d0c-4698-97b9-01fadbb162f6",
   "metadata": {},
   "outputs": [],
   "source": [
    "df1_eigval = pd.DataFrame({'Eigenvalues': pipe['pca'].explained_variance_,\n",
    "                    'Var Explained': pipe['pca'].explained_variance_ratio_})\n",
    "df1_eigval = df1_eigval[:5]\n",
    "\n",
    "#Format as percentage\n",
    "df1_eigval.style.format({\"Var Explained\": \"{:.2%}\"})"
   ]
  },
  {
   "cell_type": "code",
   "execution_count": null,
   "id": "a0f4a8c2-f818-4a2b-b927-b7148c52e5b9",
   "metadata": {},
   "outputs": [],
   "source": [
    "# Dot product below 'projects' principal components, onto the scaled dataframe df1 (tenors x curves)\n",
    "\n",
    "df1_projections = df1.dot(eigenvectors)  # all 20 eigenvectors preserved for dot product to work, and return Nrows the same as data\n",
    "\n",
    "df1_projections.index = df.index\n",
    "df1_projections.head(10)"
   ]
  },
  {
   "cell_type": "code",
   "execution_count": null,
   "id": "b7cc4f3f-cfe8-4aaf-902b-6ce3157a8415",
   "metadata": {},
   "outputs": [],
   "source": [
    "#Check dimensions\n",
    "df1_projections.shape"
   ]
  },
  {
   "cell_type": "code",
   "execution_count": null,
   "id": "b6bcc1a5-0b6c-42a7-a743-a65f49452672",
   "metadata": {},
   "outputs": [],
   "source": [
    "# Plot all \n",
    "df1_projections.iplot(title='Projections')\n",
    "\n",
    "# data.T.iplot(title='Quasi curves') this plot not very useful, it will show that beyond 2nd-3rd column there is no curve information in the projection dataset"
   ]
  },
  {
   "cell_type": "code",
   "execution_count": null,
   "id": "2e2fb497-133e-461a-8a4c-d38c9010b095",
   "metadata": {},
   "outputs": [],
   "source": [
    "df1_projections3 = df1.dot(eigenvectors[:, 0:3])  # only 3 eigenvectors are preserved\n",
    "df1_projections3.index = df.index\n",
    "\n",
    "df1_projections3.shape"
   ]
  },
  {
   "cell_type": "code",
   "execution_count": null,
   "id": "85495fa6-d142-43c1-b2d2-48acd590364b",
   "metadata": {},
   "outputs": [],
   "source": [
    "df1_projections3.head(10)"
   ]
  },
  {
   "cell_type": "code",
   "execution_count": null,
   "id": "a86f35ae-3e28-46ee-b061-23191bace385",
   "metadata": {},
   "outputs": [],
   "source": [
    "level = pd.DataFrame({'10Y': df[2.0],\n",
    "                  'pc1_projection': df1_projections[0]})\n",
    "level.head()"
   ]
  },
  {
   "cell_type": "code",
   "execution_count": null,
   "id": "6757759c-d5e0-4276-954a-e1ed55ce4089",
   "metadata": {},
   "outputs": [],
   "source": [
    "level.iplot(title='PC1 Projection vs 10Y Yield', secondary_y='pc1_projection')"
   ]
  },
  {
   "cell_type": "code",
   "execution_count": null,
   "id": "2017dd0d-4172-4341-bd80-e38a21c1b38b",
   "metadata": {},
   "outputs": [],
   "source": [
    "# Calculate 10Y-2Y, typical measure of slope\n",
    "slope = pd.DataFrame(df)\n",
    "slope = slope[[2,10]]\n",
    "slope['slope'] = slope[10] - slope[2]\n",
    "slope['pc2_projection'] = - df1_projections[1] # here e2 demonstrated its indifference to sign and got inverted\n",
    "slope.head()"
   ]
  },
  {
   "cell_type": "code",
   "execution_count": null,
   "id": "e6d27ecc-6ed2-4e2d-a429-b6c47fd411c9",
   "metadata": {},
   "outputs": [],
   "source": [
    "slope[['slope', 'pc2_projection']].iplot(title='PC2 Projection vs 10Y-2Y Slope', secondary_y='pc2_projection')"
   ]
  },
  {
   "cell_type": "code",
   "execution_count": null,
   "id": "894a7883-dcb6-4af9-a854-c05cfbaf5f74",
   "metadata": {},
   "outputs": [],
   "source": [
    "# Verify the correlation\n",
    "np.corrcoef(-df1_projections[1], slope['slope'])"
   ]
  },
  {
   "cell_type": "code",
   "execution_count": null,
   "id": "8bf72f12-c65d-4564-bddd-d0416a969d15",
   "metadata": {},
   "outputs": [],
   "source": [
    "# Sample dataset (10 rows x 3 columns) representing interest rates (3 tenors)\n",
    "rates_data = np.array([\n",
    "    [0.038, 0.040, 0.045],\n",
    "    [0.041, 0.042, 0.046],\n",
    "    [0.044, 0.046, 0.048],\n",
    "    [0.049, 0.048, 0.049],\n",
    "    [0.046, 0.043, 0.047],\n",
    "    [0.045, 0.044, 0.048],\n",
    "    [0.047, 0.049, 0.046],\n",
    "    [0.045, 0.047, 0.044],\n",
    "    [0.039, 0.041, 0.050],\n",
    "    [0.040, 0.043, 0.048]\n",
    "])\n",
    "\n",
    "# Example single eigenvector (1 x 3 dimensions)\n",
    "eigenvector = np.array([[0.1, 0.2, 0.3]])\n",
    "\n",
    "# Perform dot product\n",
    "projected_data = rates_data.dot(eigenvector.T)\n",
    "\n",
    "print(\"\\nEigenvector:\")\n",
    "print(eigenvector)\n",
    "\n",
    "print(\"\\nProjected Data: alike to 10 daily values of 1 projection\")\n",
    "print(projected_data)"
   ]
  },
  {
   "cell_type": "code",
   "execution_count": null,
   "id": "0bd7b75c-3574-4509-a334-eecdb1b063ad",
   "metadata": {},
   "outputs": [],
   "source": [
    "# Now let's have 3 eigenvectors\n",
    "eigenvectors = np.array([\n",
    "    [0.1, 0.2, 0.3],\n",
    "    [0.2, 0.3, 0.1],\n",
    "    [0.3, 0.1, 0.2]\n",
    "])\n",
    "\n",
    "# Dot product with all 3 eigenvectors\n",
    "projected_data = rates_data.dot(eigenvectors.T)\n",
    "\n",
    "print(\"\\nProjected Data: now we have 10 daily values of 3 projections\")\n",
    "print(projected_data)"
   ]
  }
 ],
 "metadata": {
  "kernelspec": {
   "display_name": "Python 3 (ipykernel)",
   "language": "python",
   "name": "python3"
  },
  "language_info": {
   "codemirror_mode": {
    "name": "ipython",
    "version": 3
   },
   "file_extension": ".py",
   "mimetype": "text/x-python",
   "name": "python",
   "nbconvert_exporter": "python",
   "pygments_lexer": "ipython3",
   "version": "3.11.3"
  }
 },
 "nbformat": 4,
 "nbformat_minor": 5
}
