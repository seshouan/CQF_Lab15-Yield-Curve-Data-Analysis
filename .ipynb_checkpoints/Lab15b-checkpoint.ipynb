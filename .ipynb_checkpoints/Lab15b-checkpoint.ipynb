{
 "cells": [
  {
   "cell_type": "code",
   "execution_count": null,
   "id": "e4541b93-5a68-4cf3-8def-2d7fd95aa323",
   "metadata": {},
   "outputs": [],
   "source": [
    "# Import libraries\n",
    "import numpy as np\n",
    "import pandas as pd\n",
    "import os as os\n",
    "\n",
    "# Plot settings.  Cufflinks library helps to work with interactive Plot.ly plots, ready for the web\n",
    "import cufflinks as cf\n",
    "cf.set_config_file(offline=True)\n",
    "\n",
    "# scikit\n",
    "from sklearn.pipeline import Pipeline\n",
    "from sklearn.preprocessing import StandardScaler\n",
    "from sklearn.decomposition import PCA"
   ]
  },
  {
   "cell_type": "code",
   "execution_count": null,
   "id": "fbbbcd62-2426-47d0-8740-a73a371a2b56",
   "metadata": {},
   "outputs": [],
   "source": [
    "pd.set_option('display.max_rows', 5000)\n",
    "pd.set_option('display.max_columns', 100)\n",
    "pd.set_option('display.width', 1000)"
   ]
  },
  {
   "cell_type": "code",
   "execution_count": null,
   "id": "dc13bc37-15cd-4df1-92ca-6b14a24d71cf",
   "metadata": {},
   "outputs": [],
   "source": [
    "# Check working directory\n",
    "os.getcwd() \n",
    "\n",
    "# Set working directory\n",
    "work_dir = \"INSERT PATH TO FILE LOCATION\"\n",
    "os.chdir(work_dir)"
   ]
  },
  {
   "cell_type": "code",
   "execution_count": null,
   "id": "a4270629-2216-4699-8221-5c6d527d272e",
   "metadata": {},
   "outputs": [],
   "source": [
    "data = pd.read_csv('./data/hjm_pca_2002-07.csv', index_col=0, sep ='\\t')"
   ]
  },
  {
   "cell_type": "code",
   "execution_count": null,
   "id": "ac72ae23-eebc-4c13-b5c0-885323e91de2",
   "metadata": {},
   "outputs": [],
   "source": [
    "data.head()"
   ]
  },
  {
   "cell_type": "code",
   "execution_count": null,
   "id": "aaa3f7c0-fcc4-4593-aeb7-a500ed29072e",
   "metadata": {},
   "outputs": [],
   "source": [
    "data.shape"
   ]
  },
  {
   "cell_type": "code",
   "execution_count": null,
   "id": "172396e0-cf64-4cfd-8c14-8b314da0634b",
   "metadata": {},
   "outputs": [],
   "source": [
    "# Plot curve\n",
    "data.iloc[0].iplot(title = 'Representation of a Yield Curve')"
   ]
  },
  {
   "cell_type": "code",
   "execution_count": null,
   "id": "09828754-7a5b-4ccb-b71d-ea07af50772e",
   "metadata": {},
   "outputs": [],
   "source": [
    "# Plot all curves\n",
    "data.T.iplot(title='Daily Yield Curves')"
   ]
  },
  {
   "cell_type": "code",
   "execution_count": null,
   "id": "ba29daa5-2bd9-4998-853b-6517663b410a",
   "metadata": {},
   "outputs": [],
   "source": [
    "diff_ = data.diff(-1)\n",
    "diff_.dropna(inplace=True)"
   ]
  },
  {
   "cell_type": "code",
   "execution_count": null,
   "id": "788ad8a6-9b80-4a64-8cf6-a5000da32ff8",
   "metadata": {},
   "outputs": [],
   "source": [
    "diff_.tail()"
   ]
  },
  {
   "cell_type": "code",
   "execution_count": null,
   "id": "cf132668-e4be-4a52-8c35-2fa83c0e816e",
   "metadata": {},
   "outputs": [],
   "source": [
    "diff_.shape"
   ]
  },
  {
   "cell_type": "code",
   "execution_count": null,
   "id": "21772937-cb41-49dc-b8a9-005ac344ccc6",
   "metadata": {},
   "outputs": [],
   "source": [
    "vol = np.std(diff_, axis=0) * 10000"
   ]
  },
  {
   "cell_type": "code",
   "execution_count": null,
   "id": "a53bfedb-3da5-4c16-9afc-3c12a1194ce1",
   "metadata": {},
   "outputs": [],
   "source": [
    "vol[:21].iplot(title='Volatility of daily UK government yields', xTitle='Tenor', yTitle='Volatility (bps)',\n",
    "         color='cornflowerblue')"
   ]
  },
  {
   "cell_type": "code",
   "execution_count": null,
   "id": "6d2c74a0-653f-41ce-95ee-1d4d80607a25",
   "metadata": {},
   "outputs": [],
   "source": [
    "cov_= pd.DataFrame(np.cov(diff_, rowvar=False)*252/10000, columns=diff_.columns, index=diff_.columns)\n",
    "cov_.style.format(\"{:.4%}\")"
   ]
  },
  {
   "cell_type": "code",
   "execution_count": null,
   "id": "e8821e59-03ba-48a2-a463-623d2e6a46fd",
   "metadata": {},
   "outputs": [],
   "source": [
    "# Perform eigen decomposition\n",
    "eigenvalues, eigenvectors = np.linalg.eig(cov_)\n",
    "\n",
    "# Sort values (good practice)\n",
    "idx = eigenvalues.argsort()[::-1]   \n",
    "eigenvalues = eigenvalues[idx]\n",
    "eigenvectors = eigenvectors[:,idx]\n",
    "\n",
    "# Format into a DataFrame \n",
    "df_eigval = pd.DataFrame({\"Eigenvalues\": eigenvalues})\n",
    "\n",
    "eigenvalues"
   ]
  },
  {
   "cell_type": "code",
   "execution_count": null,
   "id": "5f5f7d52-67c3-4460-868d-ed7c8d62e3fa",
   "metadata": {},
   "outputs": [],
   "source": [
    "# Work out explained proportion \n",
    "df_eigval[\"Explained proportion\"] = df_eigval[\"Eigenvalues\"] / np.sum(df_eigval[\"Eigenvalues\"])\n",
    "df_eigval = df_eigval[:10]\n",
    "\n",
    "#Format as percentage\n",
    "df_eigval.style.format({\"Explained proportion\": \"{:.2%}\"})"
   ]
  },
  {
   "cell_type": "code",
   "execution_count": null,
   "id": "e756dadb-9987-4b76-be4d-6b16c8687bfe",
   "metadata": {},
   "outputs": [],
   "source": [
    "(df_eigval['Explained proportion'][:10]*100).iplot(kind='bar', \n",
    "                                             title='Percentage of overall variance explained', \n",
    "                                             color='cornflowerblue')"
   ]
  },
  {
   "cell_type": "code",
   "execution_count": null,
   "id": "26ddd5e5-7094-422d-8367-103af6f23b64",
   "metadata": {},
   "outputs": [],
   "source": [
    "# Subsume first 3 components into a dataframe\n",
    "pcadf = pd.DataFrame(eigenvectors[:,0:3], columns=['PC1','PC2','PC3'])\n",
    "pcadf[:10]"
   ]
  },
  {
   "cell_type": "code",
   "execution_count": null,
   "id": "b9ec4824-0f6f-4806-9efb-542781539d4a",
   "metadata": {},
   "outputs": [],
   "source": [
    "pcadf.iplot(title='First Three Principal Components', secondary_y='PC1', secondary_y_title='PC1', \n",
    "            yTitle='change in yield (bps)')"
   ]
  },
  {
   "cell_type": "code",
   "execution_count": null,
   "id": "57cdc69a-7fb8-4898-894c-9c0b7cf060cd",
   "metadata": {},
   "outputs": [],
   "source": [
    "# Import Bank of England spot curve data from excel\n",
    "df = pd.read_excel(\"../data/GLC Nominal month end data_1970 to 2015.xlsx\", \n",
    "                   index_col=0, header=3, sheet_name=\"4. spot curve\", skiprows=[4])\n",
    "\n",
    "# Select all of the data up to 10 years\n",
    "df = df.iloc[:,0:20]\n",
    "\n",
    "df.head()"
   ]
  },
  {
   "cell_type": "code",
   "execution_count": null,
   "id": "110f253e-ee4f-40a7-a31d-3180f441d2d1",
   "metadata": {},
   "outputs": [],
   "source": [
    "# Drop nan values\n",
    "df = df.dropna(how=\"any\")\n",
    "df.shape"
   ]
  },
  {
   "cell_type": "code",
   "execution_count": null,
   "id": "adf56853-c1b7-41e6-ba6e-6c2555e973c2",
   "metadata": {},
   "outputs": [],
   "source": [
    "# Standarized data\n",
    "scaler = StandardScaler()\n",
    "scaler.fit(df)\n",
    "\n",
    "df1 = pd.DataFrame(scaler.transform(df))\n",
    "df1.head()"
   ]
  },
  {
   "cell_type": "code",
   "execution_count": null,
   "id": "5abdb00a-3685-46b4-9055-b3813b38aaf9",
   "metadata": {},
   "outputs": [],
   "source": [
    "# Create a covariance matrix \n",
    "cov_matrix_array = np.cov(df1, rowvar=False)\n",
    "pd.DataFrame(cov_matrix_array) #, index=range(1,21), columns=range(1,21))"
   ]
  },
  {
   "cell_type": "code",
   "execution_count": null,
   "id": "1200355b-a403-4ebb-83db-ebec097603c8",
   "metadata": {},
   "outputs": [],
   "source": [
    "# Perform eigen decomposition\n",
    "\n",
    "eigenvalues, eigenvectors = np.linalg.eig(cov_matrix_array)\n",
    "\n",
    "# Sort values (good practice)\n",
    "idx = eigenvalues.argsort()[::-1]   \n",
    "eigenvalues = eigenvalues[idx]\n",
    "eigenvectors = eigenvectors[:,idx]\n",
    "\n",
    "# Format into a DataFrame \n",
    "df_eigval = pd.DataFrame({\"Eigenvalues\": eigenvalues}) #, index=range(1,21))\n",
    "\n",
    "eigenvalues"
   ]
  },
  {
   "cell_type": "code",
   "execution_count": null,
   "id": "82dfa0f0-bdec-426b-8f8a-f697f256566f",
   "metadata": {},
   "outputs": [],
   "source": [
    "# Format into a DataFrame \n",
    "df_eigvec = pd.DataFrame(eigenvectors) #, index=range(1,21))\n",
    "\n",
    "eigenvectors[:,0]"
   ]
  },
  {
   "cell_type": "code",
   "execution_count": null,
   "id": "4c5ce19a-d0ad-47b3-a1e2-04316815429f",
   "metadata": {},
   "outputs": [],
   "source": [
    "# Work out explained proportion \n",
    "df_eigval[\"Explained proportion\"] = df_eigval[\"Eigenvalues\"] / np.sum(df_eigval[\"Eigenvalues\"])\n",
    "\n",
    "#Format as percentage\n",
    "df_eigval.style.format({\"Explained proportion\": \"{:.2%}\"})"
   ]
  },
  {
   "cell_type": "code",
   "execution_count": null,
   "id": "8328ca27-f65e-406b-9a16-b212e7611d02",
   "metadata": {},
   "outputs": [],
   "source": [
    "(df_eigval['Explained proportion'][:10]*100).iplot(kind='bar', \n",
    "                                             title='Percentage of overall variance explained', \n",
    "                                             color='cornflowerblue')"
   ]
  },
  {
   "cell_type": "code",
   "execution_count": null,
   "id": "2f0ca1f5-ba81-415c-b8c4-6f2be6ad99ae",
   "metadata": {},
   "outputs": [],
   "source": [
    "# Subsume first 3 components into a dataframe\n",
    "pcdf = pd.DataFrame(eigenvectors[:,0:3], columns=['PC1','PC2','PC3'])\n",
    "pcdf[:10]"
   ]
  },
  {
   "cell_type": "code",
   "execution_count": null,
   "id": "f4025e5b-bff2-432f-a0c1-597eab37559f",
   "metadata": {},
   "outputs": [],
   "source": [
    "pcdf.iplot(title='First Three Principal Components', secondary_y='PC1', secondary_y_title='PC1')"
   ]
  },
  {
   "cell_type": "code",
   "execution_count": null,
   "id": "f2a8bb99-9f5c-4538-94a9-bb6ef18a9835",
   "metadata": {},
   "outputs": [],
   "source": [
    "# Scale and fit the model\n",
    "pipe = Pipeline([(\"scaler\", StandardScaler()), (\"pca\", PCA())]) \n",
    "pipe.fit(df)"
   ]
  },
  {
   "cell_type": "code",
   "execution_count": null,
   "id": "0a0aa24a-0bd7-4d30-89ce-5e59037a3679",
   "metadata": {},
   "outputs": [],
   "source": [
    "# eigenvectors\n",
    "pipe['pca'].components_[0]"
   ]
  },
  {
   "cell_type": "code",
   "execution_count": null,
   "id": "9028788a-57a6-47ae-af56-40c1a27259d3",
   "metadata": {},
   "outputs": [],
   "source": [
    "# eigen values\n",
    "pipe['pca'].explained_variance_"
   ]
  },
  {
   "cell_type": "code",
   "execution_count": null,
   "id": "414e8330-722b-4ad7-a905-a30ef6a89d75",
   "metadata": {},
   "outputs": [],
   "source": [
    "# eigen values proportion\n",
    "pipe['pca'].explained_variance_ratio_"
   ]
  },
  {
   "cell_type": "code",
   "execution_count": null,
   "id": "1e582e92-bf8d-40f3-82a2-59581ada82af",
   "metadata": {},
   "outputs": [],
   "source": [
    "df2 = pd.DataFrame({'Eigenvalues': pipe['pca'].explained_variance_,\n",
    "                    'Explained proportion': pipe['pca'].explained_variance_ratio_})\n",
    "#Format as percentage\n",
    "df2.style.format({\"Explained proportion\": \"{:.2%}\"})"
   ]
  },
  {
   "cell_type": "code",
   "execution_count": null,
   "id": "f272b70c-de62-4e66-ab9f-df890c2b81d1",
   "metadata": {},
   "outputs": [],
   "source": [
    "# Dot product below 'projects' principal components, onto the scaled dataframe df1 (tenors x curves)\n",
    "\n",
    "df1_projections = df1.dot(eigenvectors)\n",
    "df1_projections.index = df.index\n",
    "df1_projections.head()"
   ]
  },
  {
   "cell_type": "code",
   "execution_count": null,
   "id": "f0dca7f8-c027-491c-908a-5a8c78d46754",
   "metadata": {},
   "outputs": [],
   "source": [
    "df1_projections.shape"
   ]
  },
  {
   "cell_type": "code",
   "execution_count": null,
   "id": "64b438c2-dde7-4143-9520-9fbd63da7842",
   "metadata": {},
   "outputs": [],
   "source": [
    "level = pd.DataFrame({'10Y': df[2.0],\n",
    "                  'PC1': df1_projections[0]})\n",
    "level.head()"
   ]
  },
  {
   "cell_type": "code",
   "execution_count": null,
   "id": "75e7ec91-e2d6-4dc2-b0d5-7ed2b0cd4ca1",
   "metadata": {},
   "outputs": [],
   "source": [
    "level.iplot(title='PC1 Projection vs 10Y Yield', secondary_y='PC1 Projection')"
   ]
  },
  {
   "cell_type": "code",
   "execution_count": null,
   "id": "16fb25b6-d2f8-4d15-b07b-029e29ed9cb2",
   "metadata": {},
   "outputs": [],
   "source": [
    "# Calculate 10Y-2Y, typical measure of slope\n",
    "slope = pd.DataFrame(df)\n",
    "slope = slope[[2,10]]\n",
    "slope['slope'] = slope[10] - slope[2]\n",
    "slope['pc2_projection'] = df1_projections[1]\n",
    "slope.head()"
   ]
  },
  {
   "cell_type": "code",
   "execution_count": null,
   "id": "fd3ef2de-4674-44d2-aaa7-a92f17560e5c",
   "metadata": {},
   "outputs": [],
   "source": [
    "slope[['slope', 'pc2_projection']].iplot(title='PC2 Projection vs 10Y-2Y Slope', secondary_y='PC2 Projection')"
   ]
  },
  {
   "cell_type": "code",
   "execution_count": null,
   "id": "6aebab21-fd19-4b95-b3fa-907437905d71",
   "metadata": {},
   "outputs": [],
   "source": [
    "# Verify the correlation\n",
    "np.corrcoef(df1_projections[1], slope['slope'])"
   ]
  },
  {
   "cell_type": "code",
   "execution_count": null,
   "id": "dc694514-5b17-424c-be63-2ca0856886c2",
   "metadata": {},
   "outputs": [],
   "source": []
  }
 ],
 "metadata": {
  "kernelspec": {
   "display_name": "Python 3 (ipykernel)",
   "language": "python",
   "name": "python3"
  },
  "language_info": {
   "codemirror_mode": {
    "name": "ipython",
    "version": 3
   },
   "file_extension": ".py",
   "mimetype": "text/x-python",
   "name": "python",
   "nbconvert_exporter": "python",
   "pygments_lexer": "ipython3",
   "version": "3.11.3"
  }
 },
 "nbformat": 4,
 "nbformat_minor": 5
}
